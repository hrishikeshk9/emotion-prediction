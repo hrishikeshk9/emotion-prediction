{
  "nbformat": 4,
  "nbformat_minor": 0,
  "metadata": {
    "colab": {
      "name": "Copy of Sent_analysis.ipynb",
      "provenance": [],
      "collapsed_sections": []
    },
    "kernelspec": {
      "name": "python3",
      "display_name": "Python 3"
    },
    "accelerator": "GPU"
  },
  "cells": [
    {
      "cell_type": "code",
      "metadata": {
        "id": "evVq41Uwh05x",
        "colab_type": "code",
        "colab": {}
      },
      "source": [
        "\n",
        "from google.colab import drive\n",
        "drive.mount('/content/gdrive')\n"
      ],
      "execution_count": null,
      "outputs": []
    },
    {
      "cell_type": "code",
      "metadata": {
        "id": "lxQryr4xret1",
        "colab_type": "code",
        "colab": {}
      },
      "source": [
        "cd gdrive/My Drive/Colab Notebooks"
      ],
      "execution_count": null,
      "outputs": []
    },
    {
      "cell_type": "code",
      "metadata": {
        "id": "2uNfczPpxLG0",
        "colab_type": "code",
        "colab": {}
      },
      "source": [
        "import os\n",
        "os.environ[\"KERAS_BACKEND\"] = \"theano\"\n",
        "import keras; import keras.backend\n",
        "if keras.backend.backend() != 'theano':\n",
        "    raise BaseException(\"This script uses other backend\")\n",
        "else:\n",
        "    keras.backend.set_image_dim_ordering('th')\n",
        "    print(\"Backend ok\")"
      ],
      "execution_count": null,
      "outputs": []
    },
    {
      "cell_type": "code",
      "metadata": {
        "id": "MLcwUkuDxiOZ",
        "colab_type": "code",
        "colab": {
          "base_uri": "https://localhost:8080/",
          "height": 34
        },
        "outputId": "9cea6789-cf55-4dee-f341-8abd89e4ed45"
      },
      "source": [
        "%%writefile demo.py\n",
        "\n",
        "import pandas as pd\n",
        "import preprocessor as p\n",
        "import csv\n",
        "import re\n",
        "import pandas as pd\n",
        "import matplotlib.pyplot as plt\n",
        "#from pandas.tools.plotting import table\n",
        "\n",
        "\n",
        "\n",
        "\n",
        "from emotion_predictor import EmotionPredictor\n",
        "\n",
        "# Pandas presentation options\n",
        "pd.options.display.max_colwidth = 150   # show whole tweet's content\n",
        "pd.options.display.width = 200          # don't break columns\n",
        "# pd.options.display.max_columns = 7      # maximal number of columns\n",
        "\n",
        "\n",
        "model = EmotionPredictor(classification='ekman', setting='mc', use_unison_model=True)\n",
        "\n",
        "lst = []\n",
        "\n",
        "with open('data.csv', encoding=\"utf8\") as f:\n",
        "    reader = csv.reader(f,delimiter=\",\")\n",
        "    for row in reader:\n",
        "        array = row[1].split(',')\n",
        "        tweet = array[0]\n",
        "        cleaned_tweets = re.sub(r'[?|$|.|!]',r'',tweet)\n",
        "        some = re.sub(r'[^a-z A-Z]',r'',cleaned_tweets)\n",
        "        some = some[3:]\n",
        "        lst.append(some.lower())\n",
        "\n",
        "##    \n",
        "\n",
        "tweets = lst\n",
        "predictions = model.predict_classes(tweets)\n",
        "print(predictions, '\\n')\n",
        "\n",
        "\n",
        "df=pd.DataFrame(predictions,columns=['emotion'])\n",
        "#print(df.describe)\n",
        "\n",
        "\n",
        "count_Joy = len(df[predictions['Emotion'] == 'Joy'])\n",
        "count_Surprise = len(df[predictions['Emotion'] == 'Surprise'])\n",
        "count_Anger = len(df[predictions['Emotion'] == 'Anger'])\n",
        "count_Sad = len(df[predictions['Emotion'] == 'Sad'])\n",
        "count_Fear = len(df[predictions['Emotion'] == 'Fear'])\n",
        "\n",
        "slices = [count_Joy,count_Surprise,count_Anger,count_Sad,count_Fear]\n",
        "activities = ['Joy','Surprise','Anger','Sad','Fear']\n",
        "cols = ['c','m','r','b','y']\n",
        "\n",
        "plt.pie(slices,\n",
        "        labels=activities,\n",
        "        colors=cols,\n",
        "        startangle=90,\n",
        "        shadow= True,\n",
        "        autopct='%1.1f%%')\n",
        "\n",
        "plt.title('Emotion Pie Chart - Tweets analysis')\n",
        "plt.show()\n",
        "\n",
        "''''\n",
        "probabilities = model.predict_probabilities(tweets)\n",
        "print(probabilities, '\\n')\n",
        "\n",
        "embeddings = model.embed(tweets)\n",
        "print(embeddings, '\\n')\n",
        "'''\n",
        "\n",
        "\n",
        "\n"
      ],
      "execution_count": null,
      "outputs": [
        {
          "output_type": "stream",
          "text": [
            "Overwriting demo.py\n"
          ],
          "name": "stdout"
        }
      ]
    },
    {
      "cell_type": "code",
      "metadata": {
        "id": "zlgzqS4Gxqsz",
        "colab_type": "code",
        "colab": {
          "base_uri": "https://localhost:8080/",
          "height": 302
        },
        "outputId": "d102be44-0e1e-4f9d-bdaa-457d9ea2e6db"
      },
      "source": [
        "!python3 \"demo.py\""
      ],
      "execution_count": null,
      "outputs": [
        {
          "output_type": "stream",
          "text": [
            "Using Theano backend.\n",
            "                                                                                                                                   Tweet   Emotion\n",
            "0                                                                                                                                      t       Joy\n",
            "1            realjediman republicans also enjoy majorities in both houses of the kentucky general assembly governor beshear will be held       Joy\n",
            "2                                                                   pstcomeycefrpk guber  inec adjourns announcement of election results       Joy\n",
            "3                                                                 maxkennerly what do regular folks think of the  election for an answer      Fear\n",
            "4                                                                                             aajtak                    nhttpstcocerobus       Joy\n",
            "..                                                                                                                                   ...       ...\n",
            "96   makevotesmatter great to see independent again taking up the call to changethevotingsystemnnwe need all parties to commit to a citi  Surprise\n",
            "97   makevotesmatter great to see independent again taking up the call to changethevotingsystemnnwe need all parties to commit to a citi  Surprise\n",
            "98                                                                                                    engermany onthisday in germany in   Surprise\n",
            "99                            nwbrux ge ive been going belatedly through the may  local government election results for northern ireland  Surprise\n",
            "100  makevotesmatter great to see independent again taking up the call to changethevotingsystemnnwe need all parties to commit to a citi  Surprise\n",
            "\n",
            "[101 rows x 2 columns] \n",
            "\n",
            "<Figure size 640x480 with 1 Axes>\n"
          ],
          "name": "stdout"
        }
      ]
    },
    {
      "cell_type": "code",
      "metadata": {
        "id": "6ppTElHEn36A",
        "colab_type": "code",
        "colab": {}
      },
      "source": [
        ""
      ],
      "execution_count": null,
      "outputs": []
    }
  ]
}